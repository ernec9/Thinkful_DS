{
 "cells": [
  {
   "cell_type": "markdown",
   "metadata": {},
   "source": [
    "__Tf DS_F 3.2.6__ \n",
    "\n",
    "A diagnostic test has a 98% probability of giving a positive result when applied to a person suffering from Thripshaw's Disease, and 10% probability of giving a (false) positive when applied to a non-sufferer. It is estimated that 0.5 % of the population are sufferers. Suppose that the test is now administered to a person whose disease status is unknown. Calculate the probability that the test will:\n",
    "\n",
    "1.Be positive\n",
    "\n",
    "2.Correctly diagnose a sufferer of Thripshaw's\n",
    "\n",
    "3.Correctly identify a non-sufferer of Thripshaw's\n",
    "\n",
    "4.Misclassify the person"
   ]
  },
  {
   "cell_type": "markdown",
   "metadata": {},
   "source": [
    "_1. Calculate the probability that the test will be positive:_"
   ]
  },
  {
   "cell_type": "markdown",
   "metadata": {},
   "source": [
    "P(pos)=P(pos|td) * P(td) +P(pos|not_td) * P(not_td) = 0.98 * 0.005 + 0.1* 0.995 = 0.0049+0.0995= 0.1044\n",
    "\n",
    "where td := Thripshaw's Disease\n"
   ]
  },
  {
   "cell_type": "markdown",
   "metadata": {},
   "source": [
    "_2. Calculate the probability that the test will correctly diagnose a sufferer of Thripshaw's_"
   ]
  },
  {
   "cell_type": "markdown",
   "metadata": {},
   "source": [
    "P(correctly diagnosing sufferer of td)=P(td|pos)=P(td,pos)/P(pos)= 0.005*0.98 / (0.005*0.049+0.995*0.1)= 0.0049/0.1044=~ 0.04693 (4.69 %)\n",
    "\n",
    "(with the interpretation that the question refers to the fraction of users being disgnosed are actually sufferers)"
   ]
  },
  {
   "cell_type": "markdown",
   "metadata": {},
   "source": [
    "_3. Calculate the probability that the test will correctly identify a non-sufferer of Thripshaw's_\n"
   ]
  },
  {
   "cell_type": "markdown",
   "metadata": {},
   "source": [
    "P(correctly identifying a non-sufferer of Thripshaw's)= P(non_td|neg)= P(non_td,neg)/P(neg)= \n",
    "0.995*0.9 / (0.995*0.9+0.005*0.02)= 0.8955/0.8956=~ 0.99988"
   ]
  },
  {
   "cell_type": "markdown",
   "metadata": {},
   "source": [
    "_4. Calculate the probability that the test will misclassify the person_"
   ]
  },
  {
   "cell_type": "markdown",
   "metadata": {},
   "source": [
    "P(misclassify)=P(misclassify|td)*P(td)+ P(misclassify|non_td)*P(non_td)= 0.02*0.005 + 0.1*0.995 = 0.0001+0.0995= 0.0996"
   ]
  },
  {
   "cell_type": "code",
   "execution_count": null,
   "metadata": {},
   "outputs": [],
   "source": []
  }
 ],
 "metadata": {
  "kernelspec": {
   "display_name": "Python 3",
   "language": "python",
   "name": "python3"
  },
  "language_info": {
   "codemirror_mode": {
    "name": "ipython",
    "version": 3
   },
   "file_extension": ".py",
   "mimetype": "text/x-python",
   "name": "python",
   "nbconvert_exporter": "python",
   "pygments_lexer": "ipython3",
   "version": "3.7.2"
  }
 },
 "nbformat": 4,
 "nbformat_minor": 2
}
