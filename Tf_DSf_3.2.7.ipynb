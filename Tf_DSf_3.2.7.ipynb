{
 "cells": [
  {
   "cell_type": "markdown",
   "metadata": {},
   "source": [
    "__Tf DS_F 3.2.7__ \n",
    "\n",
    "In each of the scenarios, find possible shortcomings of the theoretical or actual data sources to answer the given question. What could be done to either adjust the analysis or reframe the question so that you can answer it accurately?\n",
    "\n",
    "Data Source: Amsterdam availability data scraped from AirBnB on December 24th. Question: What are the popular neighborhoods in Amsterdam?\n",
    "\n",
    "Data Source: Mental health services use on September 12, 2001 in San Francisco, CA and New York City, NY. Question: How do patterns of mental health service use vary between cities?\n",
    "\n",
    "Data Source: Armenian Pub Survey. Question: What are the most common reasons Armenians visit local pubs?"
   ]
  },
  {
   "cell_type": "markdown",
   "metadata": {},
   "source": [
    "_1. Data Source: Amsterdam availability data scraped from AirBnB on December 24th. Question: What are the popular neighborhoods in Amsterdam?_"
   ]
  },
  {
   "cell_type": "markdown",
   "metadata": {},
   "source": [
    "- Total user (AirBnB housing numbers) data not available\n",
    "\n",
    "- December 24 might not be an accurate representation, due to holiday season and Christmas (exceptional circumstances) "
   ]
  },
  {
   "cell_type": "markdown",
   "metadata": {},
   "source": [
    "_2. Data Source: Mental health services use on September 12, 2001 in San Francisco, CA and New York City, NY. Question: How do patterns of mental health service use vary between cities?_"
   ]
  },
  {
   "cell_type": "markdown",
   "metadata": {},
   "source": [
    "- New York City, NY would likely be impacted more right after the tragedy, hence the timing might not reflect a typical usage."
   ]
  },
  {
   "cell_type": "markdown",
   "metadata": {},
   "source": [
    "_3. Data Source: Armenian Pub Survey. Question: What are the most common reasons Armenians visit local pubs?_\n"
   ]
  },
  {
   "cell_type": "markdown",
   "metadata": {},
   "source": [
    "- Some answers might be too general and difficult to categorize or quantify.\n",
    "\n",
    "- Class imbalance (93 % of participants are students), and also the age profile seems to be on the very young spectrum (even though students and younger people might indeed be visiting pubs more, the data might be on the extreme possibly associated with the University), so it might be beneficial to include different groups and environments. "
   ]
  },
  {
   "cell_type": "code",
   "execution_count": null,
   "metadata": {},
   "outputs": [],
   "source": []
  }
 ],
 "metadata": {
  "kernelspec": {
   "display_name": "Python 3",
   "language": "python",
   "name": "python3"
  },
  "language_info": {
   "codemirror_mode": {
    "name": "ipython",
    "version": 3
   },
   "file_extension": ".py",
   "mimetype": "text/x-python",
   "name": "python",
   "nbconvert_exporter": "python",
   "pygments_lexer": "ipython3",
   "version": "3.7.2"
  }
 },
 "nbformat": 4,
 "nbformat_minor": 2
}
