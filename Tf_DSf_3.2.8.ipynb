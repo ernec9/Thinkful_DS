{
 "cells": [
  {
   "cell_type": "markdown",
   "metadata": {},
   "source": [
    "__Tf DS_F 3.2.8__ \n",
    "\n",
    "_One of the classic problems in this space is referred to as the Monty Hall Problem. Some people even use this as an interview question! It is deceptively simple, and really digging into it reveals a myriad of approaches and some serious applications of conditional probability. The story goes like this:\n",
    "\n",
    "\n",
    "You are on a game show and given the choice of whatever is behind three doors. Behind one door is a fantastic prize (some examples use a car, others use cash) while behind the other two doors is a dud (some examples say a goat, others say it's just empty). You pick a door. Then the host opens one of the other two doors to reveal a dud. But here's the wrinkle: the host now gives you the opportunity to switch your door. What should you do?\n",
    "\n",
    "Write up some notes on this problem, including how you think Bayes' Rule might apply. Drop a link to your notes below and discuss it with your mentor._"
   ]
  },
  {
   "cell_type": "markdown",
   "metadata": {},
   "source": [
    "Let's assume the door we picked is door 1 (S1), and the host opens door 2. \n",
    "\n",
    "The quantities of interest are the probabilities of the reward being behind door 1 (R1) or behind door 2 (R3) given that door \n",
    "2 was opened (O2).\n",
    "\n",
    "We can apply Bayes' Rule to find the conditional probabilities as follows:\n",
    "\n",
    "_P(R1|O2, S1)= P(O2, S1|R1)P(R1) / P(O2, S1)_, (i)\n",
    "\n",
    "_P(R3|O2, S1)= P(O2, S1|R3)P(R3) / P(O2, S1)_. (ii)\n",
    "\n",
    "_P(R1)=P(R3)=1/3_ since they express the probability of the reward being behind door 1 or 3 before any door was opened.\n",
    "\n",
    "_P(O2, S1)= 1/2_ since if door 1 was selected, one of door 2 or 3 are going to be opened.\n",
    "\n",
    "_P(O2, S1|R1)= 1/2_, since if the reward is behind door 1, and door 1 is selected, any of doors 2 or 3 may be opened by the host.\n",
    "\n",
    "On the other hand, _P(O2, S1|R3)= 1_, since if door 1 is selected and reward is behind door 3, door 2 will be selected by the host with certainty.\n",
    "\n",
    "Putting all the numbers together in the formulas, we have for (i) and (ii):\n",
    "\n",
    "_P(R1|O2, S1)= (1/2*1/3) / 1/2= 1/3, _\n",
    "\n",
    "and \n",
    "\n",
    "_P(R1|O2, S1)= (1*1/3) / 1/2= 2/3. _\n",
    "\n",
    "Accordingly, an application of Bayes' rule suggests that we should switch the door to 3 to increase the probability of winning the prize.\n"
   ]
  }
 ],
 "metadata": {
  "kernelspec": {
   "display_name": "Python 3",
   "language": "python",
   "name": "python3"
  },
  "language_info": {
   "codemirror_mode": {
    "name": "ipython",
    "version": 3
   },
   "file_extension": ".py",
   "mimetype": "text/x-python",
   "name": "python",
   "nbconvert_exporter": "python",
   "pygments_lexer": "ipython3",
   "version": "3.7.2"
  }
 },
 "nbformat": 4,
 "nbformat_minor": 2
}
